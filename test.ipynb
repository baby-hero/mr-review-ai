{
 "cells": [
  {
   "cell_type": "code",
   "execution_count": null,
   "metadata": {},
   "outputs": [],
   "source": [
    "from fastapi import FastAPI, Request\n",
    "import requests\n",
    "import os\n",
    "from dotenv import load_dotenv\n",
    "\n",
    "load_dotenv()\n",
    "\n",
    "GITHUB_TOKEN = os.getenv(\"GITHUB_TOKEN\")\n",
    "GEMINI_API_KEY = os.getenv(\"GEMINI_API_KEY\")"
   ]
  },
  {
   "cell_type": "code",
   "execution_count": null,
   "metadata": {},
   "outputs": [],
   "source": [
    "REVIEW_PROMPT_TEMPLATE_V1 = \"\"\"\n",
    "You are a senior software engineer reviewing a GitHub Pull Request.\n",
    "\n",
    "Please analyze the following code diff and give feedback in the following structure:\n",
    "\n",
    "1. **Key Changes**: Summarize what changed.\n",
    "2. **Code Clarity**: Is the code readable? What could be improved?\n",
    "3. **Comments and Naming**: Are function and variable names clear and descriptive? (For Go, refer to the Google Go Style Guide: https://google.github.io/styleguide/go/)\n",
    "4. **Complexity Reduction**: Are there complex logic or structures that could be simplified?\n",
    "5. **Bug Risks**: Any potential bugs or edge cases?\n",
    "6. **Best Practices**: Are best practices followed? Suggest improvements with code.\n",
    "7. **Allow MR to Merge?**: Should this be merged? Answer: Yes / Yes with minor changes / No. Explain why.\n",
    "\n",
    "Code Diff:\n",
    "---\n",
    "{diff}\n",
    "---\n",
    "If the provided code is in Go, pay special attention to adherence to the Google Go Style Guide (https://google.github.io/styleguide/go/) in relevant sections, particularly Naming Conventions and Best Practices.\n",
    "Respond only with a detailed review following the 7 steps above. Be specific, constructive, and provide examples from the code where appropriate to illustrate your points.\n",
    "Note: Try to write the best possible summary\n",
    "\"\"\"\n",
    "\n",
    "REVIEW_PROMPT_TEMPLATE_V2 = \"\"\"\n",
    "You are a highly experienced Senior Software Engineer tasked with conducting a thorough Git Merge Request (MR) review. Your goal is to provide constructive, actionable feedback that helps improve code quality, maintainability, and robustness.\n",
    "Please meticulously review the following code changes. Analyze them and provide feedback structured as follows. If the provided code is in Go, pay special attention to adherence to the Google Go Style Guide (https://google.github.io/styleguide/go/) in relevant sections, particularly Naming Conventions and Best Practices.\n",
    "1. Overall Summary & Key Changes:\n",
    "    * Briefly state the main purpose or goal of this MR (e.g., \"This MR introduces a new feature for X,\" or \"This MR refactors Y to improve performance/clarity\").\n",
    "    * Summarize the most significant additions, modifications, or removals in terms of modules, functions, or core logic.\n",
    "2. Code Clarity & Readability:\n",
    "    * Is the code's intent immediately obvious? Is the logical flow easy to follow?\n",
    "    * Are there any sections that are overly dense, convoluted, or require significant mental effort to decipher?\n",
    "    * Suggest specific improvements for clarity (e.g., breaking down complex functions into smaller, single-responsibility units, simplifying conditional expressions, improving overall code structure or layout).\n",
    "    * Are variable and function scopes as limited as possible?\n",
    "3. Naming Conventions & Comments:\n",
    "    * Are function, variable, class, struct, interface, and module names clear, descriptive, unambiguous, and consistent with common conventions for the language/project? (For Go, refer to the Google Go Style Guide: https://google.github.io/styleguide/go/)\n",
    "    * Are comments used effectively to explain why something is done (the intent, trade-offs, or complex logic), rather than just what is being done (which the code should ideally convey)?\n",
    "    * Are there any misleading, outdated, or redundant comments? Are there places where comments are missing and would be beneficial (e.g., for non-obvious business logic or complex algorithms)?\n",
    "    * Is package naming and organization logical (if applicable)?\n",
    "4. Simplicity & Complexity Reduction (KISS Principle):\n",
    "    * Are there any overly complex conditional statements (e.g., deeply nested if/else), convoluted loops, or unnecessarily complicated algorithms?\n",
    "    * Can any part of the code be refactored for greater simplicity or to reduce cognitive load without sacrificing functionality or clarity? Provide specific suggestions (e.g., using helper functions, better data structures, or design patterns).\n",
    "    * Is there any \"magic\" (unexplained constants, arbitrary-seeming decisions) that could be clarified or made more explicit?\n",
    "5. Potential Bugs & Edge Cases:\n",
    "    * Do you foresee any potential bugs, race conditions, resource leaks (e.g., unclosed files/connections, goroutine leaks in Go), or off-by-one errors?\n",
    "    * Are edge cases (e.g., null/nil inputs, empty collections, zero values, invalid data formats) and error conditions handled gracefully, comprehensively, and explicitly? Are errors propagated or handled appropriately?\n",
    "    * (For Go: Are error values consistently checked and handled? Is panic used appropriately, i.e., rarely and for truly unrecoverable situations?)\n",
    "    * Are there any unsafe operations or potential security vulnerabilities (e.g., SQL injection, XSS, improper input validation, data exposure, insecure use of cryptography)?\n",
    "6. Best Practices & Design Principles:\n",
    "    * Does the code adhere to relevant language-specific idioms and best practices? (For Go, this includes aspects like effective error handling, interface usage, concurrency patterns, and package design from the Google Go Style Guide.)\n",
    "    * Does it follow established software design principles (e.g., DRY - Don't Repeat Yourself, SOLID, KISS - Keep It Simple, Stupid)?\n",
    "    * Are there considerations for performance, scalability, or resource consumption that should be addressed? (e.g., inefficient algorithms, unnecessary allocations, blocking I/O in critical paths).\n",
    "    * Is the code testable? Are dependencies managed in a way that facilitates testing (e.g., dependency injection)?\n",
    "    * Are there any anti-patterns present? If so, suggest alternatives.\n",
    "    * Is logging sufficient and appropriately leveled?\n",
    "7. Testing (If Applicable/Inferable):\n",
    "    * If tests are included or modified, are they clear, comprehensive, and effective in verifying the changes?\n",
    "    * Do tests cover success paths, failure paths, and relevant edge cases for the new/modified code?\n",
    "    * Are there any obvious missing test cases for the changes introduced?\n",
    "    * Are tests isolated and repeatable? Do they clean up after themselves?\n",
    "8. Recommendation & Rationale:\n",
    "    * Based on your review, provide a clear recommendation:\n",
    "        * Approve: All looks good, or only trivial nits that can be addressed post-merge or are stylistic preferences not violating guidelines.\n",
    "        * Approve with suggestions: Minor changes are recommended (e.g., for clarity, minor refactoring) but are not blockers to merging. The author can consider them.\n",
    "        * Request changes: Significant issues (e.g., potential bugs, major design flaws, missing critical tests, violations of core principles) need addressing before merging.\n",
    "    * Clearly explain your reasoning, prioritizing critical issues over minor suggestions. If requesting changes, list the specific blocking issues that must be resolved.\n",
    "\n",
    "\n",
    "Code Diff:\n",
    "---\n",
    "{diff}\n",
    "---\n",
    "Respond only with a detailed review following the 8 steps above. Be specific, constructive, and provide examples from the code where appropriate to illustrate your points.\n",
    "\"\"\""
   ]
  },
  {
   "cell_type": "code",
   "execution_count": null,
   "metadata": {},
   "outputs": [],
   "source": [
    "diff_url = \"https://patch-diff.githubusercontent.com/raw/baby-hero/go-experiments/pull/1.diff\"\n",
    "headers = {\"Authorization\": f\"token {GITHUB_TOKEN}\"}\n",
    "diff = requests.get(diff_url, headers=headers).text\n",
    "diff"
   ]
  },
  {
   "cell_type": "code",
   "execution_count": null,
   "metadata": {},
   "outputs": [],
   "source": [
    "diff_url = \"https://github.com/baby-hero/go-experiments/pull/2.diff\"\n",
    "headers = {\"Authorization\": f\"token {GITHUB_TOKEN}\"}\n",
    "diff = requests.get(diff_url, headers=headers).text\n",
    "print(diff)"
   ]
  },
  {
   "cell_type": "code",
   "execution_count": null,
   "metadata": {},
   "outputs": [],
   "source": [
    "prompt_v1 = REVIEW_PROMPT_TEMPLATE_V1.format(diff=diff[:10000])  # truncate if too long\n",
    "prompt_v2 = REVIEW_PROMPT_TEMPLATE_V2.format(diff=diff[:10000])  # truncate if too long\n"
   ]
  },
  {
   "cell_type": "code",
   "execution_count": null,
   "metadata": {},
   "outputs": [],
   "source": [
    "from google import genai\n",
    "\n",
    "client = genai.Client(api_key=GEMINI_API_KEY)\n",
    "\n",
    "response = client.models.generate_content(\n",
    "    model=\"gemini-2.0-flash\", contents=prompt_v1\n",
    ")\n",
    "print(response.text)"
   ]
  },
  {
   "cell_type": "code",
   "execution_count": null,
   "metadata": {},
   "outputs": [],
   "source": [
    "import google as genai\n",
    "\n",
    "genai.configure(api_key=GEMINI_API_KEY)\n",
    "\n",
    "model = genai.GenerativeModel(\"gemini-2.0-flash\")\n",
    "chat = model.start_chat()\n",
    "\n",
    "response_v1 = chat.send_message(prompt_v1)\n",
    "response_v2 = chat.send_message(prompt_v2)\n",
    "# response_v3 = chat.send_message(prompt_v3)\n"
   ]
  },
  {
   "cell_type": "code",
   "execution_count": null,
   "metadata": {},
   "outputs": [],
   "source": [
    "\n",
    "print(response_v1.text)\n"
   ]
  },
  {
   "cell_type": "code",
   "execution_count": null,
   "metadata": {},
   "outputs": [],
   "source": [
    "print(response_v2.text)\n"
   ]
  },
  {
   "cell_type": "code",
   "execution_count": null,
   "metadata": {},
   "outputs": [],
   "source": [
    "from ai_tools.gemini import get_mr_review\n",
    "res = get_mr_review(prompt_v1)\n",
    "print(res)"
   ]
  },
  {
   "cell_type": "code",
   "execution_count": null,
   "metadata": {},
   "outputs": [],
   "source": [
    "owner = \"baby-hero\"\n",
    "repo_name = \"go-experiments\"\n",
    "pr_number = \"3\"\n",
    "\n",
    "headers = {\n",
    "    \"Authorization\": f\"Bearer {GITHUB_TOKEN}\",\n",
    "    \"Accept\": \"application/vnd.github+json\"\n",
    "}\n",
    "\n",
    "comment_url = f\"https://api.github.com/repos/{owner}/{repo_name}/issues/{pr_number}/comments\"\n",
    "requests.post(comment_url,\n",
    "    headers=headers,\n",
    "    json={\"body\": res})"
   ]
  },
  {
   "cell_type": "code",
   "execution_count": null,
   "metadata": {},
   "outputs": [],
   "source": [
    "from utils import github_util\n",
    "\n",
    "result = github_util.post_comment_to_pr(owner, repo_name, pr_number, \"Have a nice day!\")\n",
    "print(result.text)"
   ]
  }
 ],
 "metadata": {
  "kernelspec": {
   "display_name": "venv",
   "language": "python",
   "name": "python3"
  },
  "language_info": {
   "codemirror_mode": {
    "name": "ipython",
    "version": 3
   },
   "file_extension": ".py",
   "mimetype": "text/x-python",
   "name": "python",
   "nbconvert_exporter": "python",
   "pygments_lexer": "ipython3",
   "version": "3.13.3"
  }
 },
 "nbformat": 4,
 "nbformat_minor": 2
}
